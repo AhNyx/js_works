{
 "cells": [
  {
   "cell_type": "code",
   "execution_count": 18,
   "id": "743cf914",
   "metadata": {},
   "outputs": [
    {
     "name": "stdout",
     "output_type": "stream",
     "text": [
      "200\n"
     ]
    },
    {
     "data": {
      "text/plain": [
       "'{\\n\\t\"lastBuildDate\":\"Fri, 12 May 2023 16:35:43 +0900\",\\n\\t\"total\":8706894,\\n\\t\"start\":1,\\n\\t\"display\":10,\\n\\t\"items\":[\\n\\t\\t{\\n\\t\\t\\t\"title\":\"아누카<b>사과<\\\\/b> 추출분말로 쉽게 모발관리 !\",\\n\\t\\t\\t\"link\":\"https:\\\\/\\\\/blog.naver.com\\\\/aiko1975\\\\/223072433236\",\\n\\t\\t\\t\"description\":\"이건 아누카 <b>사과<\\\\/b> 추출분말로 만들어진 건강 기능 식품이에요. 아누카<b>사과<\\\\/b>라는 것은 실제로 존재하는 과일이에요. 이건 이탈리아 캄파니아 지역에서만 수확이 가능한 <b>사과<\\\\/b> 품종 중 하나인데요. 아누카 <b>사과<\\\\/b>가... \",\\n\\t\\t\\t\"bloggername\":\"이이 노트\",\\n\\t\\t\\t\"bloggerlink\":\"blog.naver.com\\\\/aiko1975\",\\n\\t\\t\\t\"postdate\":\"20230412\"\\n\\t\\t},\\n\\t\\t{\\n\\t\\t\\t\"title\":\"아누카 <b>사과<\\\\/b> 추출 분말로 탈모증상 대비하기\",\\n\\t\\t\\t\"link\":\"https:\\\\/\\\\/blog.naver.com\\\\/mmk0525\\\\/223071280618\",\\n\\t\\t\\t\"description\":\"아누카<b>사과<\\\\/b>에 대해서 알게 되었어요. 효능에 대해 알아보니까 변비 예방뿐 아니라 다이어트에도 좋다고... 아누카<b>사과<\\\\/b> 같은 식품에 관심이 간 것 같아요. 아누카 <b>사과<\\\\/b>는 매년 9월에 다 익지 않은 녹색 상태인... \",\\n\\t\\t\\t\"bloggername\":\"요리하는 행복한 승둥이맘\",\\n\\t\\t\\t\"bloggerlink\":\"blog.naver.com\\\\/mmk0525\",\\n\\t\\t\\t\"postdate\":\"20230411\"\\n\\t\\t},\\n\\t\\t{\\n\\t\\t\\t\"title\":\"아누카 <b>사과<\\\\/b> 분말 간편하게 탈모 관리\",\\n\\t\\t\\t\"link\":\"https:\\\\/\\\\/blog.naver.com\\\\/pamaba\\\\/223072174899\",\\n\\t\\t\\t\"description\":\"그래서 꾸준히 먹어도 문제가 없고 괜찮은 제품이 뭐가 있을까 찾다가 아누카 <b>사과<\\\\/b> 추출 분말을 알게... 우선 이 아누카 <b>사과<\\\\/b>의 경우에는 캄포니아 지역에서 재배되는 <b>사과<\\\\/b>인데요. 우리가 흔히 아는 <b>사과<\\\\/b>와 큰... \",\\n\\t\\t\\t\"bloggername\":\"진리가 누구입니까?\",\\n\\t\\t\\t\"bloggerlink\":\"blog.naver.com\\\\/pamaba\",\\n\\t\\t\\t\"postdate\":\"20230412\"\\n\\t\\t},\\n\\t\\t{\\n\\t\\t\\t\"title\":\"배스킨라빈스 베라 <b>사과<\\\\/b>나라 헬로키티 먹었습니다\",\\n\\t\\t\\t\"link\":\"https:\\\\/\\\\/blog.naver.com\\\\/sht9182\\\\/223099177382\",\\n\\t\\t\\t\"description\":\"어쨌든 <b>사과<\\\\/b>나라 헬로키티 아이스크림 정보를 간단하게 살펴보면 이번 신메뉴는 애플 셔벗과 요거트 아이스 밀크 그리고 <b>사과<\\\\/b> 맛 젤리가 들어가 있는 아이스크림이라고 합니다. 영양정보도 살펴보면... \",\\n\\t\\t\\t\"bloggername\":\"프레스티시모\",\\n\\t\\t\\t\"bloggerlink\":\"blog.naver.com\\\\/sht9182\",\\n\\t\\t\\t\"postdate\":\"20230511\"\\n\\t\\t},\\n\\t\\t{\\n\\t\\t\\t\"title\":\"아누카<b>사과<\\\\/b> 출산 후 모발 관리로 지켜내기\",\\n\\t\\t\\t\"link\":\"https:\\\\/\\\\/blog.naver.com\\\\/qksdnjfgml\\\\/223065456299\",\\n\\t\\t\\t\"description\":\"그러다가 조리원 동기가 아누카<b>사과<\\\\/b>를 추천해줬는데요. 검색해보니 꽤 괜찮은 것 같더라고요. 저처럼 출산 후 탈모가 고민이신 분들도 많이 드시고 계신 것 같았어요. 아누카<b>사과<\\\\/b>분말 형태로 많이 드시더라고요.... \",\\n\\t\\t\\t\"bloggername\":\"나의 소우주\",\\n\\t\\t\\t\"bloggerlink\":\"blog.naver.com\\\\/qksdnjfgml\",\\n\\t\\t\\t\"postdate\":\"20230405\"\\n\\t\\t},\\n\\t\\t{\\n\\t\\t\\t\"title\":\"[6개월]육아일기 206일~208일\\\\/<b>사과<\\\\/b> 핑거푸드, 조동만나... \",\\n\\t\\t\\t\"link\":\"https:\\\\/\\\\/blog.naver.com\\\\/irelsuga\\\\/223099174186\",\\n\\t\\t\\t\"description\":\"206일차 나 혼자 <b>사과<\\\\/b> 먹기가 미안해서 또랑이에게 <b>사과<\\\\/b>를 잘라 주었다. 아삭아삭 치발기처럼 <b>사과<\\\\/b>를 먹는다 쭙쭙 빨기도 하고 ㅋㅋㅋㅋㅋ자꾸 <b>사과<\\\\/b>가 손에서 빠져 나가서 나중엔 성질이 낫다... \",\\n\\t\\t\\t\"bloggername\":\"깐따삐야★\",\\n\\t\\t\\t\"bloggerlink\":\"blog.naver.com\\\\/irelsuga\",\\n\\t\\t\\t\"postdate\":\"20230511\"\\n\\t\\t},\\n\\t\\t{\\n\\t\\t\\t\"title\":\"강아지 <b>사과<\\\\/b> <b>사과<\\\\/b>껍질 <b>사과<\\\\/b>씨 먹여도 될까요\",\\n\\t\\t\\t\"link\":\"https:\\\\/\\\\/blog.naver.com\\\\/guswlsl2867\\\\/223079877263\",\\n\\t\\t\\t\"description\":\"특히 우리가 자주 먹는 과일인 <b>사과<\\\\/b>는 달고 맛있어서 아이와 함께 먹고 싶어질 때가 많아요. 강아지 <b>사과<\\\\/b> 먹어도 되는 걸까요? 결론 먼저 말씀드리자면 강아지 <b>사과<\\\\/b> 급여는 가능합니다. 개는 잡식성 동물이기... \",\\n\\t\\t\\t\"bloggername\":\"펫블리\",\\n\\t\\t\\t\"bloggerlink\":\"blog.naver.com\\\\/guswlsl2867\",\\n\\t\\t\\t\"postdate\":\"20230420\"\\n\\t\\t},\\n\\t\\t{\\n\\t\\t\\t\"title\":\"에이오유 <b>사과<\\\\/b>밤 립밤 추천 내돈내산 리뷰!\",\\n\\t\\t\\t\"link\":\"https:\\\\/\\\\/blog.naver.com\\\\/ccf70101\\\\/223069990745\",\\n\\t\\t\\t\"description\":\"선크림&amp;에이오유 <b>사과<\\\\/b>밤 조합이 넘 좋아서 추천 하러 왔숨당 ㅎㅎ 저처럼 쌩얼 메이크업 좋아하시는 분들은 요 두가지 조합은 꼭 써보는 거 강추드림. 원래 에이오유 <b>사과<\\\\/b>밤만 포스팅할까 했는데 보여드리는... \",\\n\\t\\t\\t\"bloggername\":\"찰떡모찌의 오늘 모모찌 모바르찌♥\",\\n\\t\\t\\t\"bloggerlink\":\"blog.naver.com\\\\/ccf70101\",\\n\\t\\t\\t\"postdate\":\"20230410\"\\n\\t\\t},\\n\\t\\t{\\n\\t\\t\\t\"title\":\"아누카 <b>사과<\\\\/b>로 탈모증상 대비하기\",\\n\\t\\t\\t\"link\":\"https:\\\\/\\\\/blog.naver.com\\\\/hjm_\\\\/223099312482\",\\n\\t\\t\\t\"description\":\"그렇게 처음 아누카 <b>사과<\\\\/b>라는 것을 접하게 되었네요. 우선 아누카 <b>사과<\\\\/b>란 실제로 존재하고 있는 과일로 이탈리아 캄파니아라는 지역에서만 수확이 가능한 <b>사과<\\\\/b>품종인데요. 좀 더 자세히 이야기 드려보자면 이... \",\\n\\t\\t\\t\"bloggername\":\"Serendipity\",\\n\\t\\t\\t\"bloggerlink\":\"blog.naver.com\\\\/hjm_\",\\n\\t\\t\\t\"postdate\":\"20230511\"\\n\\t\\t},\\n\\t\\t{\\n\\t\\t\\t\"title\":\"아넬라퓨레로 부드러운 아기간식 식빵 <b>사과<\\\\/b>파이\",\\n\\t\\t\\t\"link\":\"https:\\\\/\\\\/blog.naver.com\\\\/skstbvjcjqj\\\\/223098691809\",\\n\\t\\t\\t\"description\":\"식빵 <b>사과<\\\\/b>파이 준비물 : 아넬라퓨레 <b>사과<\\\\/b>, 식빵, 달걀 안녕하세요, 수댕입니다! 여러 가지 잼을 식빵 안에 채워 넣은 파이는 간단하게 만들 수 있어 좋지만 아기간식으로 준비하려니 잼 안에 들어가는 설탕이나... \",\\n\\t\\t\\t\"bloggername\":\"수댕쓰\",\\n\\t\\t\\t\"bloggerlink\":\"blog.naver.com\\\\/skstbvjcjqj\",\\n\\t\\t\\t\"postdate\":\"20230510\"\\n\\t\\t}\\n\\t]\\n}'"
      ]
     },
     "execution_count": 18,
     "metadata": {},
     "output_type": "execute_result"
    }
   ],
   "source": [
    "import urllib.request\n",
    "\n",
    "# 네이버API 서비스(ID/비밀번호) 등록\n",
    "client_id = \"VZFGEqvmFWR7G1494tZG\"\n",
    "client_secret = \"vkkf5VkU_4\"\n",
    "\n",
    "encText = urllib.request.quote(\"사과\")\n",
    "url = \"https://openapi.naver.com/v1/search/blog.json?query=\" + encText\n",
    "\n",
    "request = urllib.request.Request(url)\n",
    "request.add_header(\"X-Naver-Client-Id\", client_id)\n",
    "request.add_header(\"X-Naver-Client-Secret\", client_secret)\n",
    "\n",
    "response = urllib.request.urlopen(request)\n",
    "print(response.getcode())\n",
    "response.read().decode('utf-8')"
   ]
  },
  {
   "cell_type": "markdown",
   "id": "2ec8a886",
   "metadata": {},
   "source": [
    "### 도서 검색\n",
    "### https://openapi.naver.com/v1/search/book.json"
   ]
  },
  {
   "cell_type": "code",
   "execution_count": 58,
   "id": "5dfbf6bb",
   "metadata": {
    "scrolled": true
   },
   "outputs": [
    {
     "name": "stdout",
     "output_type": "stream",
     "text": [
      "\n"
     ]
    }
   ],
   "source": [
    "import urllib.request\n",
    "import json\n",
    "import pandas as pd\n",
    "\n",
    "def create_url(api_node, search_text, start_num, disp_num):\n",
    "    base = \"https://openapi.naver.com/v1/search\"\n",
    "    node = \"/\" + api_node + \".json\"\n",
    "    param_query = \"?query=\" + urllib.parse.quote(search_text)\n",
    "    param_start = \"&start=\" + str(start_num)\n",
    "    param_disp = \"&display=\" + str(disp_num)\n",
    "    \n",
    "    return base + node + param_query + param_start + param_disp\n",
    "\n",
    "print()\n",
    "    \n",
    "# 네이버API 서비스(ID/비밀번호) 등록\n",
    "client_id = \"VZFGEqvmFWR7G1494tZG\"\n",
    "client_secret = \"vkkf5VkU_4\"\n",
    "\n",
    "url = create_url('book','파이썬',1,11)\n",
    "\n",
    "request = urllib.request.Request(url)\n",
    "request.add_header(\"X-Naver-Client-Id\", client_id)\n",
    "request.add_header(\"X-Naver-Client-Secret\", client_secret)\n",
    "\n",
    "response = urllib.request.urlopen(request)\n",
    "result = json.loads(response.read().decode('utf-8'))\n",
    "\n",
    "\n",
    "#print(\"제목 :\", result['items'][0]['title'])\n",
    "#print(\"저자 :\", result['items'][0]['author'])\n",
    "# titles 생성\n",
    "#for i in range(3):\n",
    "#    print(result['items'][i]['title'])\n",
    "\n",
    "# 리스트 내포\n",
    "titles = [ result['items'][i]['title'] for i in range(10) ]\n",
    "authors = [ result['items'][i]['author'] for i in range(10) ]\n",
    "pubdates = [ result['items'][i]['pubdate'] for i in range(10) ]\n",
    "\n",
    "\n",
    "파이썬도서 = pd.DataFrame({\n",
    "    '책제목': titles,\n",
    "    '작가': authors,\n",
    "    '출판일': pubdates\n",
    "                     })\n",
    "\n",
    "파이썬도서\n",
    "\n",
    "# csv 파일 만들기\n",
    "\n",
    "파이썬도서.set_index('책제목').to_csv(\"./datas/파이썬도서.csv\",encoding=\"cp949\")"
   ]
  },
  {
   "cell_type": "code",
   "execution_count": 35,
   "id": "e3e292cc",
   "metadata": {
    "scrolled": true
   },
   "outputs": [
    {
     "data": {
      "text/plain": [
       "[{'title': 'Do it! 점프 투 파이썬 (이미 200만명이 이 책으로 프로그래밍을 시작했다!)',\n",
       "  'link': 'https://search.shopping.naver.com/book/catalog/32456895000',\n",
       "  'image': 'https://shopping-phinf.pstatic.net/main_3245689/32456895000.20230511071611.jpg',\n",
       "  'author': '박응용',\n",
       "  'discount': '16920',\n",
       "  'publisher': '이지스퍼블리싱',\n",
       "  'pubdate': '20190620',\n",
       "  'isbn': '9791163030911',\n",
       "  'description': '파이썬 4년 연속 베스트셀러 1위! \\n『Do it! 점프 투 파이썬』 전면 개정판 출시!\\n\\n문과생도 중고등학생도 직장인도 프로그래밍에 눈뜨게 만든 바로 그 책이 전면 개정판으로 새로 태어났다! 2016년 《Do it! 점프 투 파이썬》으로 출간되었던 이 책은 약 4년 동안의 피드백을 반영하여 초보자가 더 빠르게 입문하고, 더 깊이 있게 공부할 수 있도록 개정되었다. 특히 ‘나 혼자 코딩’과 ‘코딩 면허 시험 20제’ 등 독자의 학습 흐름에 맞게 문제를 보강한 점이 눈에 띈다. 실습량도 두 배로 늘었다.\\n4년 동안 압도적 1위! 위키독스 누적 방문 200만! 수많은 대학 및 학원의 교재 채택 등! 검증은 이미 끝났다. 코딩을 처음 배우는 중고등학생부터 나만의 경쟁력이 필요한 문과생, 데이터 분석과 인공지능/머신러닝으로 커리어를 뻗어 나가고 싶은 직장인까지! 프로그래밍의 세계에 풍덩 빠져 보자.'},\n",
       " {'title': '코딩 자율학습 나도코딩의 파이썬 입문 (초보자 눈높이에 맞춘 친절한 프로그래밍 자습서)',\n",
       "  'link': 'https://search.shopping.naver.com/book/catalog/37828235624',\n",
       "  'image': 'https://shopping-phinf.pstatic.net/main_3782823/37828235624.20230404163151.jpg',\n",
       "  'author': '나도코딩',\n",
       "  'discount': '20520',\n",
       "  'publisher': '길벗',\n",
       "  'pubdate': '20230220',\n",
       "  'isbn': '9791140703302',\n",
       "  'description': '30만 명의 구독자와 2만 6천 명의 수강생이 증명한 최고의 파이썬 강의\\n나도코딩의 프로그래밍 학습 노하우를 배우자!\\n\\n유튜브와 인프런 최고의 인기 강의를 한 권에 담았습니다. 일상 속 재미있는 예제로 파이썬 기본 개념을 배우고 1분 퀴즈, 실습 문제, 셀프체크로 이어지는 단계별 학습으로 파이썬을 완공할 수 있습니다. 이제 코딩은 선택이 아닌 필수! 코딩은 전공자만 배울 수 있다는 생각으로 지레 포기하지 마세요. 파이썬은 초보자가 가장 쉽게 배울 수 있는 프로그래밍 언어입니다. 관심만 있다면 누구나 코딩을 배울 수 있습니다. 나도코딩이 쉽고 재미있게 알려드립니다. 코딩을 처음 배우는 사람도 단계적 용어 설명과 친절한 지시선으로 막힘없이 따라 할 수 있습니다. 기본 설명 외에 팁, 노트 등을 적재적소에 배치해 혼자 공부할 때 생길 수 있는 의문점을 쉽게 해결할 수 있게 도와줍니다. 이제 〈코딩 자율학습 나도코딩의 파이썬 입문〉으로 완벽한 코딩 자율학습을 경험해 보세요.'},\n",
       " {'title': '파이썬 무작정 따라하기 (미래의 프로그래머를 위한)',\n",
       "  'link': 'https://search.shopping.naver.com/book/catalog/32439274496',\n",
       "  'image': 'https://shopping-phinf.pstatic.net/main_3243927/32439274496.20230328163144.jpg',\n",
       "  'author': '서승희^송석리',\n",
       "  'discount': '12600',\n",
       "  'publisher': '길벗',\n",
       "  'pubdate': '20211220',\n",
       "  'isbn': '9791165217891',\n",
       "  'description': '초등학생을 위한 파이썬 교재\\n첫 코딩을 쉽고 재밌게!\\n\\n이 책은 초등학생부터 청소년까지 쉽고 체계적으로 파이썬 코딩을 배울 수 있는 책입니다. 데이터, 조건문, 변수, 반복문, 함수, 라이브러리 등 개념 이해부터, 코드 실습, 연습 문제 3단계 구성으로 차근차근 따라 할 수 있도록 안내합니다. 기본 개념을 배운 후에는 터틀 그래픽으로 그림을 그려보고, 마지막으로는 ‘불꽃을 발사해서 몹을 물리치는’ 게임을 직접 만들어 봅니다. 블록 코딩을 끝낸 뒤 텍스트 코딩을 본격적으로 배우고 싶다면 이 책으로 시작해 보세요!\\n\\n파이썬 설치부터 활용 방법, 기본 개념을 꼼꼼하게 자세하게 알려줘요!\\n파이썬은 무엇이며 어떻게 사용하는지 차근차근 알아봅니다. 현직 교사가 집필하여 아이들의 눈높이에서 개념 설명부터 코드 실습, 연습 문제까지 단계별로 짚어줍니다. 아이들이 좋아하는 캐릭터와 판타지 스토리텔링을 따라가다 보면 데이터, 조건문, 반복문, 변수 같은 파이썬 기본 개념과 자연스레 친해질 수 있습니다.\\n \\n배운 내용을 응용하고 발전시켜 봐요!\\n앞에서 배운 기본 문법을 응용하여 코딩 문제를 풀어 보고 터틀 라이브러리를 사용해서 멋진 마법진도 그려 봅니다. 딕셔너리, 리스트 등 심화된 내용도 차근차근 따라 한다면 어렵지 않아요!\\n \\n나만의 파이썬 게임을 만들어 봐요!\\n파이게임 라이브러리를 사용하여 나만의 게임을 만들어 봅니다. 캐릭터 상하좌우 이동부터 투명 마법, 몹 등장, 불꽃 공격, 소리 효과 등 게임 제작의 기본적인 과정을 재밌게 실습해 봅니다. \\n \\n 누구를 위한 책인가요?\\n- 블록 코딩을 배우고 처음으로 텍스트 코딩을 배우려는 초등 5~6학년, 중등 1~2학년\\n- 코딩을 쉽게 배우고 싶은 모든 사람'},\n",
       " {'title': '챗GPT와 업무자동화 (1분 만에 끝내는 엑셀, 구글 시트, 파워포인트, 파이썬 자동화 with ChatGPT)',\n",
       "  'link': 'https://search.shopping.naver.com/book/catalog/38613559620',\n",
       "  'image': 'https://shopping-phinf.pstatic.net/main_3861355/38613559620.20230512071057.jpg',\n",
       "  'author': '김철수',\n",
       "  'discount': '15390',\n",
       "  'publisher': '위키북스',\n",
       "  'pubdate': '20230321',\n",
       "  'isbn': '9791158394288',\n",
       "  'description': '코드 한 줄 몰라도 1분 만에 끝내는 엑셀, 구글 스프레드시트, 파워포인트 업무 자동화!\\n\\n우리는 ChatGPT에게 코드를 요청하고, ChatGPT가 작성한 코드를 사용해서 엑셀이든 파워포인트든 구글 시스프레드시트든 뭐든 자동화할 수 있습니다. Ctrl+C와 Ctrl+V로 하루 종일 해야 했던 단순 반복 업무를 ChatGPT만 있으면 1분 안에 끝낼 수 있습니다. 믿기지 않는다고요? 이 책을 보면 이제 Ctrl+C와 Ctrl+V의 노예에서 해방될 수 있습니다.\\n\\nChatGPT는 사람의 직업을 대체하지 않습니다. 모든 사람이 본연의 업무에 집중할 수 있도록 단순 반복 업무 같은 작업을 대신하거나, 아주 빠르게 하도록 도와주는 것뿐입니다. ChatGPT와 같은 AI에 익숙해진다면 업무 효율이 부쩍 올라가고 여유 시간이 점점 늘어나는 것을 느낄 겁니다.\\n\\n★ 이 책의 구성 ★\\n\\n◎ ChatGPT 개념과 간단한 사용법\\n◎ ChatGPT를 사용해서 엑셀을 자동화하는 방법\\n◎ ChatGPT가 작성해주는 주는 VBA 코드를 엑셀에서 활용하는 방법\\n◎ ChatGPT를 활용한 구글 스프레드 자동화\\n◎ ChatGPT의 다양한 활용 - 파이썬으로 뉴스 수집, D3 시각화, 웹페이지 만들기 등'},\n",
       " {'title': '혼자 공부하는 파이썬 (1:1 과외하듯 배우는 프로그래밍 자습서)',\n",
       "  'link': 'https://search.shopping.naver.com/book/catalog/32507605957',\n",
       "  'image': 'https://shopping-phinf.pstatic.net/main_3250760/32507605957.20230509170119.jpg',\n",
       "  'author': '윤인성',\n",
       "  'discount': '18810',\n",
       "  'publisher': '한빛미디어',\n",
       "  'pubdate': '20220601',\n",
       "  'isbn': '9791162245651',\n",
       "  'description': '혼자 해도 충분하다! 1:1 과외하듯 배우는 파이썬 프로그래밍 자습서\\n\\n『혼자 공부하는 파이썬』이 더욱 흥미있고 알찬 내용으로 개정되었습니다. 프로그래밍이 정말 처음인 입문자도 따라갈 수 있는 친절한 설명과 단계별 학습은 그대로! 혼자 공부하더라도 체계적으로 계획을 세워 학습할 수 있도록 ‘혼공 계획표’를 새롭게 추가했습니다. 또한 입문자가 자주 물어보는 질문과 오류 해결 방법을 적재적소에 배치하여 예상치 못한 문제에 부딪혀도 좌절하지 않고 끝까지 완독할 수 있도록 도와줍니다. 단순한 문법 암기와 코딩 따라하기에 지쳤다면, 새로운 혼공파와 함께 ‘누적 예제’와 ‘도전 문제’로 프로그래밍의 신세계를 경험해 보세요! 배운 내용을 씹고 뜯고 맛보고 즐기다 보면 응용력은 물론 알고리즘 사고력까지 키워 코딩 실력이 쑥쑥 성장할 것입니다.\\n\\n이 책은 독학으로 파이썬을 배우는 입문자가 ‘꼭 필요한 내용을 제대로 학습’할 수 있도록 구성했습니다. 뭘 모르는지조차 모르는 입문자의 막연한 마음에 십분 공감하여 과외 선생님이 알려주듯 친절하게, 핵심적인 내용만 콕콕 집어줍니다. 책의 첫 페이지를 펼쳐서 마지막 페이지를 덮을 때까지, 혼자서도 충분히 파이썬을 배울 수 있다는 자신감과 확신이 계속될 것입니다!\\n\\n베타리더와 함께 입문자에게 맞는 난이도, 분량, 학습 요소 등을 적극 반영했습니다. 어려운 용어와 개념은 한 번 더 풀어쓰고, 복잡한 설명은 눈에 잘 들어오는 그림으로 풀어냈습니다. ‘혼자 공부해 본’ 여러 입문자의 초심과 눈높이가 책 곳곳에 반영된 것이 이 책의 가장 큰 장점입니다.'}]"
      ]
     },
     "execution_count": 35,
     "metadata": {},
     "output_type": "execute_result"
    }
   ],
   "source": [
    "result['items']"
   ]
  }
 ],
 "metadata": {
  "kernelspec": {
   "display_name": "Python 3 (ipykernel)",
   "language": "python",
   "name": "python3"
  },
  "language_info": {
   "codemirror_mode": {
    "name": "ipython",
    "version": 3
   },
   "file_extension": ".py",
   "mimetype": "text/x-python",
   "name": "python",
   "nbconvert_exporter": "python",
   "pygments_lexer": "ipython3",
   "version": "3.10.9"
  }
 },
 "nbformat": 4,
 "nbformat_minor": 5
}
